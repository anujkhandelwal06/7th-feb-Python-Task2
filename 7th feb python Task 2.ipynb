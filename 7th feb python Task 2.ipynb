{
 "cells": [
  {
   "cell_type": "code",
   "execution_count": 4,
   "id": "3544d7c9-feb1-4603-9e3c-9b9073f44d20",
   "metadata": {},
   "outputs": [],
   "source": [
    "#import re : A Regular expression (sometimes called a Rational expression) is a sequence of characters that define a search pattern, mainly for use in pattern matching with strings, or string matching, i.e. “find and replace”-like operations.\n",
    "\n",
    "#re.findall() : Return all non-overlapping matches of pattern in string, as a list of strings. The string is scanned left-to-right, and matches are returned in the order found."
   ]
  },
  {
   "cell_type": "code",
   "execution_count": null,
   "id": "71644407-3dab-4cfb-ad66-3fdacc0ba3c4",
   "metadata": {},
   "outputs": [],
   "source": [
    "import re\n",
    "\n",
    "def check_password(password):\n",
    "    #check length of password\n",
    "    if len(password) !=10:\n",
    "        return\"Invalid Password\"\n",
    "    \n",
    "    #check number of uppercase and lowercase letters\n",
    "    upper_count=sum(1 for c in password if c.isupper())\n",
    "    lower_count=sum(1 for c in password if c.islower())\n",
    "    if upper_count < 2 or lower_count<2:\n",
    "        return \"Invalid Password\"\n",
    "    #check for one digit & 3 special character\n",
    "    digit_count=sum(1 for c in password if c.isdigit())\n",
    "    special_count=len(re.findall(r'[^\\w\\s]',password))\n",
    "    if digit_count ==0 and special_count < 3:\n",
    "        return \"Invalid Password\"\n",
    "    \n",
    "    #if all checks pass, return \"valid Password\"\n",
    "    return \"Valid Password\""
   ]
  },
  {
   "cell_type": "code",
   "execution_count": null,
   "id": "9183194a-7149-49d7-b0ae-9848750009af",
   "metadata": {},
   "outputs": [],
   "source": [
    "password = input(\"Enter password: \")\n",
    "print(check_password(password))\n"
   ]
  },
  {
   "cell_type": "code",
   "execution_count": 1,
   "id": "26f6dca1-2d0d-41f6-9891-d2a41687feb4",
   "metadata": {},
   "outputs": [
    {
     "name": "stdout",
     "output_type": "stream",
     "text": [
      "True\n"
     ]
    }
   ],
   "source": [
    "#check if the string starts with a particular letter Y using lambda function\n",
    "\n",
    "starts_with_y = lambda s: s.startswith('Y')\n",
    "print(starts_with_y('Yellow'))\n",
    "    "
   ]
  },
  {
   "cell_type": "code",
   "execution_count": 2,
   "id": "1798af11-f096-411f-b3ea-aceda231aee2",
   "metadata": {},
   "outputs": [
    {
     "name": "stdout",
     "output_type": "stream",
     "text": [
      "True\n"
     ]
    }
   ],
   "source": [
    "#Check if string is numeric Y using lambda function\n",
    "\n",
    "is_numeric = lambda s:s.isnumeric()\n",
    "print(is_numeric('123'))"
   ]
  },
  {
   "cell_type": "code",
   "execution_count": 4,
   "id": "c13e9bbe-965e-43a5-bc6d-794850717a8d",
   "metadata": {},
   "outputs": [
    {
     "name": "stdout",
     "output_type": "stream",
     "text": [
      "[('orange', 80), ('mango', 99), ('grapes', 1000)]\n"
     ]
    }
   ],
   "source": [
    "#Sort a list of tuples having fruit names and their quantity using lambda function: \n",
    "\n",
    "fruits =  [(\"mango\",99),(\"orange\",80), (\"grapes\", 1000)]\n",
    "sorted_fruits=sorted(fruits,key=lambda x: x[1])\n",
    "print(sorted_fruits)"
   ]
  },
  {
   "cell_type": "code",
   "execution_count": 5,
   "id": "f734a609-a607-422e-97dd-bc140e97da17",
   "metadata": {},
   "outputs": [
    {
     "name": "stdout",
     "output_type": "stream",
     "text": [
      "[1, 4, 9, 16, 25, 36, 49, 64, 81, 100]\n"
     ]
    }
   ],
   "source": [
    "#Find the squares of numbers from 1 to 10 using list compreshension :\n",
    "\n",
    "squares = [x**2 for x in range(1,11)]\n",
    "print(squares)"
   ]
  },
  {
   "cell_type": "code",
   "execution_count": 6,
   "id": "86c2cb7e-dd54-44fa-8739-84c263ac5efb",
   "metadata": {},
   "outputs": [
    {
     "name": "stdout",
     "output_type": "stream",
     "text": [
      "[1.0, 1.26, 1.44, 1.59, 1.71, 1.82, 1.91, 2.0, 2.08, 2.15]\n"
     ]
    }
   ],
   "source": [
    "#Find the cube root of numbers from 1 to 10\n",
    "\n",
    "cube_roots = [round(x**(1/3),2) for x in range(1,11)]\n",
    "print(cube_roots)"
   ]
  },
  {
   "cell_type": "code",
   "execution_count": 7,
   "id": "8a2c6e49-7612-4e1d-86f9-889877447972",
   "metadata": {},
   "outputs": [
    {
     "name": "stdout",
     "output_type": "stream",
     "text": [
      "True\n"
     ]
    }
   ],
   "source": [
    "#check if a given number is even using lambda function:\n",
    "\n",
    "is_even=lambda x:x %2 ==0\n",
    "print(is_even(6))"
   ]
  },
  {
   "cell_type": "code",
   "execution_count": 8,
   "id": "5062c35f-1ec4-49c5-913d-a21db68f5ad4",
   "metadata": {},
   "outputs": [
    {
     "name": "stdout",
     "output_type": "stream",
     "text": [
      "[1, 3, 5, 7, 9]\n"
     ]
    }
   ],
   "source": [
    "#Filter odd numbers from the given list using filter function:\n",
    "\n",
    "numbers = [1,2,3,4,5,6,7,8,9,10]\n",
    "odd_numbers = list(filter(lambda x: x % 2 != 0, numbers))\n",
    "print(odd_numbers)\n"
   ]
  },
  {
   "cell_type": "code",
   "execution_count": 9,
   "id": "3f6e38fc-3224-4b3f-b511-f78957a2929b",
   "metadata": {},
   "outputs": [
    {
     "name": "stdout",
     "output_type": "stream",
     "text": [
      "Positive numbers: [1, 2, 3, 4, 5, 6]\n",
      "Negative numbers: [-1, -2, -3, -4, -5]\n"
     ]
    }
   ],
   "source": [
    "#Sort a list of integers into positive and negative integers lists using list comprehension:\n",
    "\n",
    "numbers = [1,2,3,4,5,6,-1,-2,-3,-4,-5,0]\n",
    "positive_numbers = [x for x in numbers if x > 0]\n",
    "negative_numbers = [x for x in numbers if x < 0]\n",
    "print(\"Positive numbers:\", positive_numbers)\n",
    "print(\"Negative numbers:\", negative_numbers)\n"
   ]
  },
  {
   "cell_type": "code",
   "execution_count": null,
   "id": "dbd406d9-767d-4287-a1a1-7247e5eff714",
   "metadata": {},
   "outputs": [],
   "source": []
  }
 ],
 "metadata": {
  "kernelspec": {
   "display_name": "Python 3 (ipykernel)",
   "language": "python",
   "name": "python3"
  },
  "language_info": {
   "codemirror_mode": {
    "name": "ipython",
    "version": 3
   },
   "file_extension": ".py",
   "mimetype": "text/x-python",
   "name": "python",
   "nbconvert_exporter": "python",
   "pygments_lexer": "ipython3",
   "version": "3.10.8"
  }
 },
 "nbformat": 4,
 "nbformat_minor": 5
}
